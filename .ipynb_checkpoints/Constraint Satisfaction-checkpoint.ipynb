{
 "cells": [
  {
   "cell_type": "markdown",
   "metadata": {},
   "source": [
    "# 8 Queens\n",
    "To illustrate the 8 Queens problem we first create a class to represent a possible boardstate and all the possible successors to this boardstate. The successor to a board state is every other boardstate that can be reached by moving one Queen to another square in the same column that it previously resided in."
   ]
  },
  {
   "cell_type": "code",
   "execution_count": 95,
   "metadata": {
    "scrolled": false
   },
   "outputs": [
    {
     "name": "stdout",
     "output_type": "stream",
     "text": [
      "┌───┬───┬───┬───┬───┬───┬───┬───┐\n",
      "│   │   │   │   │   │ ♛ │   │   │\n",
      "├───┼───┼───┼───┼───┼───┼───┼───┤\n",
      "│ ♛ │   │   │   │   │   │   │   │\n",
      "├───┼───┼───┼───┼───┼───┼───┼───┤\n",
      "│   │   │   │   │ ♛ │   │   │   │\n",
      "├───┼───┼───┼───┼───┼───┼───┼───┤\n",
      "│   │ ♛ │   │   │   │   │   │   │\n",
      "├───┼───┼───┼───┼───┼───┼───┼───┤\n",
      "│   │   │   │   │   │   │   │ ♛ │\n",
      "├───┼───┼───┼───┼───┼───┼───┼───┤\n",
      "│   │   │ ♛ │   │   │   │   │   │\n",
      "├───┼───┼───┼───┼───┼───┼───┼───┤\n",
      "│   │   │   │   │   │   │ ♛ │   │\n",
      "├───┼───┼───┼───┼───┼───┼───┼───┤\n",
      "│   │   │   │ ♛ │   │   │   │   │\n",
      "└───┴───┴───┴───┴───┴───┴───┴───┘\n"
     ]
    }
   ],
   "source": [
    "from random import randrange, uniform, choice\n",
    "\n",
    "class Board:\n",
    "    def __init__(self, state=None):\n",
    "        self.state = state if state is not None else ''.join(str(randrange(8)) for _ in range(8))\n",
    "        self.util = 28 - sum(self.targets(int(self[i]), i, int(self[j]), j) \n",
    "                             for i in range(8) for j in range(8) if i != j)//2\n",
    "                \n",
    "    @staticmethod\n",
    "    def targets(ax, ay, bx, by):\n",
    "        return (ax == bx or ay == by or abs(ax - bx) == abs(ay - by)) and (ax, ay) != (bx, by)\n",
    "    \n",
    "    def __add__(self, other): # Defines Reproduction\n",
    "        crossover = randrange(len(self.state))\n",
    "        return Board(self[:crossover] + other[crossover:])\n",
    "    \n",
    "    def __getitem__(self, idx):\n",
    "        return self.state[idx]\n",
    "    \n",
    "    def attacked(self, idx):\n",
    "        return any(self.targets(*idx, int(self[i]), i) for i in range(8))\n",
    "    \n",
    "    def __repr__(self):\n",
    "        return f'Board[state={self.state}|util={self.util}]'\n",
    "    \n",
    "    def __len__(self):\n",
    "        return len(self.state)\n",
    "    \n",
    "    def __str__(self):\n",
    "        l = ['┌───┬───┬───┬───┬───┬───┬───┬───┐']\n",
    "        for i in range(8):\n",
    "            l.append('│ ' + ' │ '.join(('×' if self.attacked((int(self[j]), j)) else '♛') \n",
    "                                       if self[j] == str(i) else ' ' for j in range(8)) + ' │')\n",
    "            if i < 7:\n",
    "                l.append('├───┼───┼───┼───┼───┼───┼───┼───┤')\n",
    "        l.append('└───┴───┴───┴───┴───┴───┴───┴───┘')\n",
    "        return '\\n'.join(l)\n",
    "    \n",
    "    def successors(self):\n",
    "        for i in range(8):\n",
    "            for j in range(8):\n",
    "                if j != int(self[i]):\n",
    "                    yield Board(self[:i] + str(j) + self[i+1:])\n",
    "    \n",
    "    def mutation(self):\n",
    "        idx = randrange(len(self))\n",
    "        gene = str(choice(set(range(len(self)) - {int(self[idx])})))\n",
    "        return Board(self[:idx] + gene + other[idx+1:])\n",
    "    \n",
    "\n",
    "a = Board('13572064')\n",
    "#print(a)\n",
    "#print(a.util)\n",
    "\n",
    "b = Board('13576420')\n",
    "#print(b)\n",
    "#print(b.util)\n",
    "\n",
    "print(a)"
   ]
  },
  {
   "cell_type": "code",
   "execution_count": 145,
   "metadata": {},
   "outputs": [],
   "source": [
    "class Evolution:\n",
    "    def __init__(self, entity_class, size, fitness):\n",
    "        self.fitness = fitness\n",
    "        self.population = sorted([entity_class() for _ in range(size)], key=self.fitness, reverse=True)\n",
    "        self.update()\n",
    "    \n",
    "    def update(self):\n",
    "        self.total_fitness = sum(self.fitness(entity) for entity in self.population)\n",
    "    \n",
    "    def __iter__(self):\n",
    "        for entity in self.population:\n",
    "            yield entity\n",
    "    \n",
    "    def __getitem__(self, idx):\n",
    "        return self.population[idx]\n",
    "    \n",
    "    def select(self):\n",
    "        pivot = uniform(0, 1) * self.total_fitness\n",
    "        pointer = 0\n",
    "        for i, entity in enumerate(self):\n",
    "            pointer += self.fitness(entity)\n",
    "            if pointer >= pivot:\n",
    "                return self[i-1]\n",
    "        return self[-1]\n",
    "    \n",
    "    def mutate(self, entity, mutation_probability):\n",
    "        if uniform(0, 1) < mutation_probability:\n",
    "            return self.entity.mutate()\n",
    "        else:\n",
    "            return entity\n",
    "        \n",
    "    \n",
    "    def __call__(self, epochs, mutation_probability=0.1):\n",
    "        for epoch in range(epochs):\n",
    "            population = []\n",
    "            for _ in range(len(self.population))\n",
    "            \n",
    "                # Selection\n",
    "                parent_one = self.select()\n",
    "                parent_two = self.select()\n",
    "                \n",
    "                # Reproduction\n",
    "                child = parent_one + parent_two\n",
    "                \n",
    "                # Mutation\n",
    "                child = self.mutate(child)\n",
    "                \n",
    "            \n",
    "    \n",
    "\n",
    "pool = Evolution(Board, 100, lambda x: x.util)"
   ]
  },
  {
   "cell_type": "code",
   "execution_count": 146,
   "metadata": {},
   "outputs": [
    {
     "data": {
      "image/png": "[encoded data removed]",
      "text/plain": [
       "<Figure size 432x288 with 1 Axes>"
      ]
     },
     "metadata": {
      "needs_background": "light"
     },
     "output_type": "display_data"
    }
   ],
   "source": [
    "%matplotlib inline\n",
    "from matplotlib import pyplot as plt\n",
    "\n",
    "select = [x.util for x in sorted(list(pool.select() for _ in range(100)), key=lambda x: x.util, reverse=True)]\n",
    "pop = list(entity.util for entity in pool)\n",
    "ranger = list(range(100))\n",
    "plt.scatter(select, ranger)\n",
    "plt.scatter(pop, ranger)\n",
    "plt.show()"
   ]
  },
  {
   "cell_type": "code",
   "execution_count": null,
   "metadata": {},
   "outputs": [],
   "source": []
  }
 ],
 "metadata": {
  "kernelspec": {
   "display_name": "Python 3",
   "language": "python",
   "name": "python3"
  },
  "language_info": {
   "codemirror_mode": {
    "name": "ipython",
    "version": 3
   },
   "file_extension": ".py",
   "mimetype": "text/x-python",
   "name": "python",
   "nbconvert_exporter": "python",
   "pygments_lexer": "ipython3",
   "version": "3.8.2"
  }
 },
 "nbformat": 4,
 "nbformat_minor": 2
}
